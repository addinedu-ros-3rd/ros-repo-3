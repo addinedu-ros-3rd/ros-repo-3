{
 "cells": [
  {
   "cell_type": "code",
   "execution_count": 5,
   "metadata": {},
   "outputs": [],
   "source": [
    "import mysql.connector"
   ]
  },
  {
   "cell_type": "code",
   "execution_count": 6,
   "metadata": {},
   "outputs": [
    {
     "name": "stdout",
     "output_type": "stream",
     "text": [
      "[(1, 'pencil', 9), (2, 'ball', 35)]\n"
     ]
    }
   ],
   "source": [
    "db_con = mysql.connector.connect(\n",
    "    host = \"database-1.cmdlhagy2um9.ap-northeast-2.rds.amazonaws.com\",\n",
    "    port = 3306,\n",
    "    user = \"admin\", \n",
    "    password = \"dltnals123$\",\n",
    "    database = \"edi\"\n",
    ")\n",
    "\n",
    "cur = db_con.cursor()\n",
    "cur.execute(\"select * from bipoom_table\")\n",
    "result = cur.fetchall()\n",
    "\n",
    "print(result[1])\n",
    "    \n",
    "db_con.close()"
   ]
  },
  {
   "cell_type": "code",
   "execution_count": 3,
   "metadata": {},
   "outputs": [
    {
     "name": "stdout",
     "output_type": "stream",
     "text": [
      "2024-01-07 02:26:58.841295\n"
     ]
    }
   ],
   "source": [
    "from datetime import datetime \n",
    "\n",
    "start = datetime.now()\n",
    "\n",
    "print(start)"
   ]
  },
  {
   "cell_type": "code",
   "execution_count": null,
   "metadata": {},
   "outputs": [],
   "source": []
  }
 ],
 "metadata": {
  "kernelspec": {
   "display_name": "detect",
   "language": "python",
   "name": "python3"
  },
  "language_info": {
   "codemirror_mode": {
    "name": "ipython",
    "version": 3
   },
   "file_extension": ".py",
   "mimetype": "text/x-python",
   "name": "python",
   "nbconvert_exporter": "python",
   "pygments_lexer": "ipython3",
   "version": "3.10.12"
  }
 },
 "nbformat": 4,
 "nbformat_minor": 2
}
