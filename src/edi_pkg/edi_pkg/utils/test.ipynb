{
 "cells": [
  {
   "cell_type": "code",
   "execution_count": 1,
   "metadata": {},
   "outputs": [],
   "source": [
    "from nav2_simple_commander.robot_navigator import BasicNavigator\n",
    "import rclpy\n",
    "\n",
    "rclpy.init()\n",
    "nav = BasicNavigator()"
   ]
  },
  {
   "cell_type": "code",
   "execution_count": 2,
   "metadata": {},
   "outputs": [
    {
     "name": "stderr",
     "output_type": "stream",
     "text": [
      "[INFO] [1704246269.139189525] [basic_navigator]: Nav2 is ready for use!\n"
     ]
    }
   ],
   "source": [
    "nav.waitUntilNav2Active()"
   ]
  },
  {
   "cell_type": "markdown",
   "metadata": {},
   "source": [
    "### 가고 싶은 것을 지정"
   ]
  },
  {
   "cell_type": "code",
   "execution_count": 3,
   "metadata": {},
   "outputs": [],
   "source": [
    "from geometry_msgs.msg import PoseStamped\n",
    "\n",
    "goal_pose = PoseStamped()\n",
    "goal_pose.header.frame_id = 'map'\n",
    "goal_pose.header.stamp = nav.get_clock().now().to_msg()\n",
    "\n",
    "goal_pose.pose.position.x = 1.6231005191802979\n",
    "goal_pose.pose.position.y = 1.527397632598877\n",
    "goal_pose.pose.position.z = 0.002471923828125\n",
    "\n",
    "goal_pose.pose.orientation.x = 0.0\n",
    "goal_pose.pose.orientation.y = 0.0\n",
    "goal_pose.pose.orientation.z = 0.0\n",
    "goal_pose.pose.orientation.w = 1.0\n"
   ]
  },
  {
   "cell_type": "code",
   "execution_count": null,
   "metadata": {},
   "outputs": [],
   "source": []
  },
  {
   "cell_type": "markdown",
   "metadata": {},
   "source": [
    "### 가버렷"
   ]
  },
  {
   "cell_type": "code",
   "execution_count": 4,
   "metadata": {},
   "outputs": [
    {
     "name": "stderr",
     "output_type": "stream",
     "text": [
      "[INFO] [1704246339.142936675] [basic_navigator]: Navigating to goal: -1.8196172714233398 0.23907724022865295...\n"
     ]
    },
    {
     "data": {
      "text/plain": [
       "True"
      ]
     },
     "execution_count": 4,
     "metadata": {},
     "output_type": "execute_result"
    }
   ],
   "source": [
    "nav.goToPose(goal_pose)"
   ]
  },
  {
   "cell_type": "markdown",
   "metadata": {},
   "source": [
    "### 상황을 피드백 받거나 오랫동안 이수하지 못하면 취소"
   ]
  },
  {
   "cell_type": "code",
   "execution_count": 5,
   "metadata": {},
   "outputs": [
    {
     "name": "stdout",
     "output_type": "stream",
     "text": [
      "Distance remaining: 0.66 meters.\n",
      "Distance remaining: 0.60 meters.\n",
      "Distance remaining: 0.60 meters.\n",
      "Distance remaining: 0.00 meters.\n",
      "Distance remaining: 0.52 meters.\n",
      "Distance remaining: 0.52 meters.\n",
      "Distance remaining: 0.47 meters.\n",
      "Distance remaining: 0.47 meters.\n",
      "Distance remaining: 0.37 meters.\n",
      "Distance remaining: 0.32 meters.\n",
      "Distance remaining: 0.27 meters.\n"
     ]
    }
   ],
   "source": [
    "from rclpy.duration import Duration\n",
    "\n",
    "i = 0\n",
    "while not nav.isTaskComplete():\n",
    "    i += 1\n",
    "    feedback = nav.getFeedback()\n",
    "\n",
    "    if feedback and i % 5 ==0:\n",
    "        print('Distance remaining: ' + '{:.2f}'.format(\n",
    "            feedback.distance_remaining) + ' meters.')\n",
    "\n",
    "        if Duration.from_msg(feedback.navigation_time) > Duration(seconds=10.0):\n",
    "            nav.cancelTask()"
   ]
  },
  {
   "cell_type": "markdown",
   "metadata": {},
   "source": [
    "### 상황 피드백 받기"
   ]
  },
  {
   "cell_type": "code",
   "execution_count": 6,
   "metadata": {},
   "outputs": [
    {
     "name": "stdout",
     "output_type": "stream",
     "text": [
      "goal succed\n"
     ]
    }
   ],
   "source": [
    "from nav2_simple_commander.robot_navigator import TaskResult\n",
    "\n",
    "result = nav.getResult()\n",
    "if result == TaskResult.SUCCEEDED:\n",
    "    print(\"goal succed\")    \n",
    "elif result == TaskResult.CANCELED:\n",
    "    print('goal was canceled')\n",
    "elif result == TaskResult.FAILED:\n",
    "    print('goal failed')"
   ]
  },
  {
   "cell_type": "code",
   "execution_count": 3,
   "metadata": {},
   "outputs": [
    {
     "data": {
      "text/plain": [
       "geometry_msgs.msg.PoseWithCovarianceStamped(header=std_msgs.msg.Header(stamp=builtin_interfaces.msg.Time(sec=0, nanosec=0), frame_id=''), pose=geometry_msgs.msg.PoseWithCovariance(pose=geometry_msgs.msg.Pose(position=geometry_msgs.msg.Point(x=0.0, y=0.0, z=0.0), orientation=geometry_msgs.msg.Quaternion(x=0.0, y=0.0, z=0.0, w=1.0)), covariance=array([0., 0., 0., 0., 0., 0., 0., 0., 0., 0., 0., 0., 0., 0., 0., 0., 0.,\n",
       "       0., 0., 0., 0., 0., 0., 0., 0., 0., 0., 0., 0., 0., 0., 0., 0., 0.,\n",
       "       0., 0.])))"
      ]
     },
     "execution_count": 3,
     "metadata": {},
     "output_type": "execute_result"
    }
   ],
   "source": [
    "import rclpy\n",
    "from geometry_msgs.msg import PoseWithCovarianceStamped\n",
    "\n",
    "pose_current = PoseWithCovarianceStamped()\n",
    "pose_current"
   ]
  },
  {
   "cell_type": "code",
   "execution_count": 4,
   "metadata": {},
   "outputs": [
    {
     "data": {
      "text/plain": [
       "geometry_msgs.msg.Point(x=0.0, y=0.0, z=0.0)"
      ]
     },
     "execution_count": 4,
     "metadata": {},
     "output_type": "execute_result"
    }
   ],
   "source": [
    "pose_current.pose.pose.position"
   ]
  },
  {
   "cell_type": "code",
   "execution_count": 5,
   "metadata": {},
   "outputs": [
    {
     "data": {
      "text/plain": [
       "geometry_msgs.msg.Quaternion(x=0.0, y=0.0, z=0.0, w=1.0)"
      ]
     },
     "execution_count": 5,
     "metadata": {},
     "output_type": "execute_result"
    }
   ],
   "source": [
    "pose_current.pose.pose.orientation"
   ]
  },
  {
   "cell_type": "code",
   "execution_count": 10,
   "metadata": {},
   "outputs": [
    {
     "name": "stdout",
     "output_type": "stream",
     "text": [
      "geometry_msgs.msg.PoseWithCovarianceStamped(header=std_msgs.msg.Header(stamp=builtin_interfaces.msg.Time(sec=0, nanosec=0), frame_id=''), pose=geometry_msgs.msg.PoseWithCovariance(pose=geometry_msgs.msg.Pose(position=geometry_msgs.msg.Point(x=0.0, y=0.0, z=0.0), orientation=geometry_msgs.msg.Quaternion(x=0.0, y=0.0, z=0.0, w=1.0)), covariance=array([0., 0., 0., 0., 0., 0., 0., 0., 0., 0., 0., 0., 0., 0., 0., 0., 0.,\n",
      "       0., 0., 0., 0., 0., 0., 0., 0., 0., 0., 0., 0., 0., 0., 0., 0., 0.,\n",
      "       0., 0.])))\n"
     ]
    },
    {
     "name": "stderr",
     "output_type": "stream",
     "text": [
      "[WARN] [1702356649.379076267] [rcl.logging_rosout]: Publisher already registered for provided node name. If this is due to multiple nodes with the same name then all logs for that logger name will go out over the existing publisher. As soon as any node with that name is destructed it will unregister the publisher, preventing any further logs for that name from being published on the rosout topic.\n"
     ]
    }
   ],
   "source": [
    "pose_node = rclpy.create_node('sub_pose')\n",
    "\n",
    "def callback(data):\n",
    "    global pose_current\n",
    "    print(\"============\")\n",
    "    print(data.pose.pose.position)\n",
    "    print(data.pose.pose.orientation)\n",
    "    pose_current = data\n",
    "    print(pose_current)\n",
    "print(pose_current)"
   ]
  },
  {
   "cell_type": "code",
   "execution_count": 11,
   "metadata": {},
   "outputs": [
    {
     "data": {
      "text/plain": [
       "<rclpy.subscription.Subscription at 0x7f0af00df130>"
      ]
     },
     "execution_count": 11,
     "metadata": {},
     "output_type": "execute_result"
    }
   ],
   "source": [
    "pose_node.create_subscription(PoseWithCovarianceStamped, '/amcl_pose', callback, 10)"
   ]
  },
  {
   "cell_type": "code",
   "execution_count": 16,
   "metadata": {},
   "outputs": [
    {
     "name": "stdout",
     "output_type": "stream",
     "text": [
      "============\n",
      "geometry_msgs.msg.Point(x=1.719966525698393, y=-0.13100219533947693, z=0.0)\n",
      "geometry_msgs.msg.Quaternion(x=0.0, y=0.0, z=-0.9775468038424824, w=0.2107184052173593)\n",
      "geometry_msgs.msg.PoseWithCovarianceStamped(header=std_msgs.msg.Header(stamp=builtin_interfaces.msg.Time(sec=217, nanosec=953000000), frame_id='map'), pose=geometry_msgs.msg.PoseWithCovariance(pose=geometry_msgs.msg.Pose(position=geometry_msgs.msg.Point(x=1.719966525698393, y=-0.13100219533947693, z=0.0), orientation=geometry_msgs.msg.Quaternion(x=0.0, y=0.0, z=-0.9775468038424824, w=0.2107184052173593)), covariance=array([1.95809212e-02, 3.04577308e-05, 0.00000000e+00, 0.00000000e+00,\n",
      "       0.00000000e+00, 0.00000000e+00, 3.04577308e-05, 3.45523487e-02,\n",
      "       0.00000000e+00, 0.00000000e+00, 0.00000000e+00, 0.00000000e+00,\n",
      "       0.00000000e+00, 0.00000000e+00, 0.00000000e+00, 0.00000000e+00,\n",
      "       0.00000000e+00, 0.00000000e+00, 0.00000000e+00, 0.00000000e+00,\n",
      "       0.00000000e+00, 0.00000000e+00, 0.00000000e+00, 0.00000000e+00,\n",
      "       0.00000000e+00, 0.00000000e+00, 0.00000000e+00, 0.00000000e+00,\n",
      "       0.00000000e+00, 0.00000000e+00, 0.00000000e+00, 0.00000000e+00,\n",
      "       0.00000000e+00, 0.00000000e+00, 0.00000000e+00, 2.81109759e-02])))\n"
     ]
    }
   ],
   "source": [
    "rclpy.spin_once(pose_node)"
   ]
  },
  {
   "cell_type": "code",
   "execution_count": 1,
   "metadata": {},
   "outputs": [],
   "source": [
    "from tf_transformations import euler_from_quaternion"
   ]
  },
  {
   "cell_type": "code",
   "execution_count": 17,
   "metadata": {},
   "outputs": [
    {
     "data": {
      "text/plain": [
       "geometry_msgs.msg.PoseWithCovarianceStamped(header=std_msgs.msg.Header(stamp=builtin_interfaces.msg.Time(sec=217, nanosec=953000000), frame_id='map'), pose=geometry_msgs.msg.PoseWithCovariance(pose=geometry_msgs.msg.Pose(position=geometry_msgs.msg.Point(x=1.719966525698393, y=-0.13100219533947693, z=0.0), orientation=geometry_msgs.msg.Quaternion(x=0.0, y=0.0, z=-0.9775468038424824, w=0.2107184052173593)), covariance=array([1.95809212e-02, 3.04577308e-05, 0.00000000e+00, 0.00000000e+00,\n",
       "       0.00000000e+00, 0.00000000e+00, 3.04577308e-05, 3.45523487e-02,\n",
       "       0.00000000e+00, 0.00000000e+00, 0.00000000e+00, 0.00000000e+00,\n",
       "       0.00000000e+00, 0.00000000e+00, 0.00000000e+00, 0.00000000e+00,\n",
       "       0.00000000e+00, 0.00000000e+00, 0.00000000e+00, 0.00000000e+00,\n",
       "       0.00000000e+00, 0.00000000e+00, 0.00000000e+00, 0.00000000e+00,\n",
       "       0.00000000e+00, 0.00000000e+00, 0.00000000e+00, 0.00000000e+00,\n",
       "       0.00000000e+00, 0.00000000e+00, 0.00000000e+00, 0.00000000e+00,\n",
       "       0.00000000e+00, 0.00000000e+00, 0.00000000e+00, 2.81109759e-02])))"
      ]
     },
     "execution_count": 17,
     "metadata": {},
     "output_type": "execute_result"
    }
   ],
   "source": [
    "pose_current"
   ]
  },
  {
   "cell_type": "code",
   "execution_count": 18,
   "metadata": {},
   "outputs": [
    {
     "data": {
      "text/plain": [
       "geometry_msgs.msg.Quaternion(x=0.0, y=0.0, z=-0.9775468038424824, w=0.2107184052173593)"
      ]
     },
     "execution_count": 18,
     "metadata": {},
     "output_type": "execute_result"
    }
   ],
   "source": [
    "pose_current.pose.pose.orientation"
   ]
  },
  {
   "cell_type": "code",
   "execution_count": 2,
   "metadata": {},
   "outputs": [
    {
     "data": {
      "text/plain": [
       "(0.0, -0.0, 0.0)"
      ]
     },
     "execution_count": 2,
     "metadata": {},
     "output_type": "execute_result"
    }
   ],
   "source": [
    "q = [0, 0, 0, 1]\n",
    "# q[0] = pose_current.pose.pose.orientation.x\n",
    "# q[1] = pose_current.pose.pose.orientation.y\n",
    "# q[2] = pose_current.pose.pose.orientation.z\n",
    "# q[3] = pose_current.pose.pose.orientation.w\n",
    "\n",
    "euler_from_quaternion(q)"
   ]
  },
  {
   "cell_type": "code",
   "execution_count": 22,
   "metadata": {},
   "outputs": [
    {
     "data": {
      "text/plain": [
       "array([   0.        ,   -0.        , -155.67108812])"
      ]
     },
     "execution_count": 22,
     "metadata": {},
     "output_type": "execute_result"
    }
   ],
   "source": [
    "import numpy as np\n",
    "\n",
    "def convert_degree(input):\n",
    "    return np.array(input) * 180. /np.pi\n",
    "\n",
    "convert_degree(euler_from_quaternion(q))"
   ]
  },
  {
   "cell_type": "code",
   "execution_count": 4,
   "metadata": {},
   "outputs": [
    {
     "name": "stdout",
     "output_type": "stream",
     "text": [
      "[ 0.         -0.          1.58250902]\n"
     ]
    },
    {
     "data": {
      "text/plain": [
       "(0.0, 0.0, 0.9764293082836897, 0.21583745255315445)"
      ]
     },
     "execution_count": 4,
     "metadata": {},
     "output_type": "execute_result"
    }
   ],
   "source": [
    "from tf_transformations import quaternion_from_euler\n",
    "import numpy as np\n",
    "to_radian = np.pi / 180.\n",
    "tmp = [0.0 ,-0.0, 90.67108812]\n",
    "print(np.array(tmp) * to_radian)\n",
    "\n",
    "quaternion_from_euler(tmp[0], tmp[1], tmp[2])"
   ]
  },
  {
   "cell_type": "code",
   "execution_count": 21,
   "metadata": {},
   "outputs": [
    {
     "name": "stderr",
     "output_type": "stream",
     "text": [
      "[WARN] [1702354476.061145281] [rcl.logging_rosout]: Publisher already registered for provided node name. If this is due to multiple nodes with the same name then all logs for that logger name will go out over the existing publisher. As soon as any node with that name is destructed it will unregister the publisher, preventing any further logs for that name from being published on the rosout topic.\n"
     ]
    }
   ],
   "source": [
    "from nav2_simple_commander.robot_navigator import BasicNavigator\n",
    "from geometry_msgs.msg import PoseStamped\n",
    "\n",
    "nav = BasicNavigator()\n",
    "\n",
    "target = quaternion_from_euler(tmp[0], tmp[1], tmp[2])\n",
    "goal_pose = PoseStamped()\n",
    "\n",
    "goal_pose.header.frame_id = 'map'\n",
    "goal_pose.header.stamp = nav.get_clock().now().to_msg()\n",
    "\n",
    "goal_pose.pose.orientation.x = target[0]\n",
    "goal_pose.pose.orientation.y = target[1]\n",
    "goal_pose.pose.orientation.z = target[2]\n",
    "goal_pose.pose.orientation.w = target[3]"
   ]
  },
  {
   "cell_type": "code",
   "execution_count": 22,
   "metadata": {},
   "outputs": [
    {
     "name": "stderr",
     "output_type": "stream",
     "text": [
      "[INFO] [1702354485.371901561] [basic_navigator]: Navigating to goal: 0.0 0.0...\n"
     ]
    },
    {
     "name": "stdout",
     "output_type": "stream",
     "text": [
      "distance remaining2.18 meters\n",
      "distance remaining2.18 meters\n",
      "distance remaining2.18 meters\n",
      "distance remaining2.18 meters\n",
      "distance remaining2.18 meters\n",
      "distance remaining2.18 meters\n",
      "distance remaining2.18 meters\n",
      "distance remaining2.13 meters\n",
      "distance remaining2.13 meters\n",
      "distance remaining2.12 meters\n",
      "distance remaining2.12 meters\n",
      "distance remaining2.12 meters\n",
      "distance remaining2.12 meters\n",
      "distance remaining2.12 meters\n",
      "distance remaining2.08 meters\n",
      "distance remaining2.08 meters\n",
      "distance remaining2.06 meters\n",
      "distance remaining2.06 meters\n",
      "distance remaining2.02 meters\n",
      "distance remaining0.00 meters\n",
      "distance remaining0.00 meters\n",
      "distance remaining0.00 meters\n",
      "distance remaining0.00 meters\n",
      "distance remaining0.00 meters\n",
      "distance remaining0.00 meters\n",
      "distance remaining0.00 meters\n",
      "distance remaining0.00 meters\n",
      "distance remaining0.00 meters\n",
      "distance remaining0.00 meters\n",
      "distance remaining0.00 meters\n",
      "distance remaining0.00 meters\n",
      "distance remaining0.00 meters\n",
      "distance remaining0.00 meters\n",
      "distance remaining0.00 meters\n",
      "distance remaining0.00 meters\n",
      "distance remaining0.00 meters\n",
      "distance remaining0.00 meters\n",
      "distance remaining0.00 meters\n",
      "distance remaining0.00 meters\n",
      "distance remaining0.00 meters\n",
      "distance remaining0.00 meters\n",
      "distance remaining0.00 meters\n"
     ]
    },
    {
     "name": "stderr",
     "output_type": "stream",
     "text": [
      "[INFO] [1702354507.085645198] [basic_navigator]: Canceling current task.\n"
     ]
    }
   ],
   "source": [
    "from rclpy.duration import Duration\n",
    "\n",
    "nav.goToPose(goal_pose)\n",
    "\n",
    "i = 0\n",
    "\n",
    "while not nav.isTaskComplete():\n",
    "    i += 1\n",
    "    feedback = nav.getFeedback()\n",
    "    if feedback and i % 5 == 0:\n",
    "        print('distance remaining' + '{:.2f}'.format(\n",
    "            feedback.distance_remaining) + ' meters')\n",
    "        \n",
    "        if Duration.from_msg(feedback.navigation_time) > Duration(seconds=10.0):\n",
    "            nav.cancelTask()\n"
   ]
  },
  {
   "cell_type": "code",
   "execution_count": 2,
   "metadata": {},
   "outputs": [
    {
     "data": {
      "text/plain": [
       "array([  0.        ,   0.        , 178.18987429])"
      ]
     },
     "execution_count": 2,
     "metadata": {},
     "output_type": "execute_result"
    }
   ],
   "source": [
    "import numpy as np\n",
    "input = [0., 0, 3.11]\n",
    "\n",
    "degree = np.array(input) * 180. / np.pi\n",
    "degree"
   ]
  },
  {
   "cell_type": "code",
   "execution_count": 4,
   "metadata": {},
   "outputs": [
    {
     "data": {
      "text/plain": [
       "0.0"
      ]
     },
     "execution_count": 4,
     "metadata": {},
     "output_type": "execute_result"
    }
   ],
   "source": [
    "degree[1]"
   ]
  },
  {
   "cell_type": "code",
   "execution_count": null,
   "metadata": {},
   "outputs": [],
   "source": []
  }
 ],
 "metadata": {
  "kernelspec": {
   "display_name": "Python 3",
   "language": "python",
   "name": "python3"
  },
  "language_info": {
   "codemirror_mode": {
    "name": "ipython",
    "version": 3
   },
   "file_extension": ".py",
   "mimetype": "text/x-python",
   "name": "python",
   "nbconvert_exporter": "python",
   "pygments_lexer": "ipython3",
   "version": "3.10.12"
  }
 },
 "nbformat": 4,
 "nbformat_minor": 2
}
