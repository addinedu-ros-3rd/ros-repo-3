{
 "cells": [
  {
   "cell_type": "code",
   "execution_count": 2,
   "metadata": {},
   "outputs": [],
   "source": [
    "import mysql.connector"
   ]
  },
  {
   "cell_type": "code",
   "execution_count": 3,
   "metadata": {},
   "outputs": [
    {
     "name": "stdout",
     "output_type": "stream",
     "text": [
      "[(2, 'bipoom_2_0', datetime.datetime(2024, 1, 7, 4, 15, 1), None, None)]\n",
      "b\n"
     ]
    }
   ],
   "source": [
    "db_con = mysql.connector.connect(\n",
    "    host = \"database-1.cmdlhagy2um9.ap-northeast-2.rds.amazonaws.com\",\n",
    "    port = 3306,\n",
    "    user = \"admin\", \n",
    "    password = \"dltnals123$\",\n",
    "    database = \"edi\"\n",
    ")\n",
    "\n",
    "cur = db_con.cursor()\n",
    "cur.execute(\"SELECT * FROM book_table WHERE (start_time IS NULL) AND (order_name LIKE 'b%') ORDER BY id LIMIT 1;\")\n",
    "result = cur.fetchall()\n",
    "\n",
    "print(result)\n",
    "if result == []:\n",
    "    print(\"a\")\n",
    "else:\n",
    "    print(\"b\")\n",
    "    \n",
    "db_con.close()"
   ]
  },
  {
   "cell_type": "markdown",
   "metadata": {},
   "source": []
  },
  {
   "cell_type": "code",
   "execution_count": 7,
   "metadata": {},
   "outputs": [
    {
     "data": {
      "text/plain": [
       "'bipoom'"
      ]
     },
     "execution_count": 7,
     "metadata": {},
     "output_type": "execute_result"
    }
   ],
   "source": [
    "result[0][1].split(\"_\")[0]"
   ]
  },
  {
   "cell_type": "code",
   "execution_count": 2,
   "metadata": {},
   "outputs": [
    {
     "name": "stdout",
     "output_type": "stream",
     "text": [
      "0:00:00.727425\n"
     ]
    }
   ],
   "source": [
    "import datetime\n",
    "i=0\n",
    "start_time = datetime.datetime.now()\n",
    "while(i < 10000000):\n",
    "    i += 1\n",
    "    continue\n",
    "end_time = datetime.datetime.now()\n",
    "\n",
    "print(end_time - start_time)"
   ]
  },
  {
   "cell_type": "code",
   "execution_count": null,
   "metadata": {},
   "outputs": [],
   "source": []
  }
 ],
 "metadata": {
  "kernelspec": {
   "display_name": "detect",
   "language": "python",
   "name": "python3"
  },
  "language_info": {
   "codemirror_mode": {
    "name": "ipython",
    "version": 3
   },
   "file_extension": ".py",
   "mimetype": "text/x-python",
   "name": "python",
   "nbconvert_exporter": "python",
   "pygments_lexer": "ipython3",
   "version": "3.10.12"
  }
 },
 "nbformat": 4,
 "nbformat_minor": 2
}
